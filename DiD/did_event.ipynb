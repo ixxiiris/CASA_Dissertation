{
 "cells": [
  {
   "cell_type": "markdown",
   "id": "c0331c1b",
   "metadata": {},
   "source": [
    "# 4 \n",
    "## 4.1 **准自然实验设计：干旱事件 + 双重差分（DiD）**\n",
    "\n",
    "本研究以2010年干旱作为处理组识别事件，将县份分为“严重干旱组”（SPEI≤–1）与“轻微干旱组”（SPEI > –1）进行对比分析。采用固定效应面板回归模型"
   ]
  },
  {
   "cell_type": "code",
   "execution_count": null,
   "id": "867baa4b",
   "metadata": {},
   "outputs": [],
   "source": [
    "# 导入相关库\n",
    "import pandas as pd\n",
    "import matplotlib.pyplot as plt\n",
    "import seaborn as sns\n",
    "import statsmodels.api as sm\n",
    "from linearmodels.panel import PanelOLS"
   ]
  },
  {
   "cell_type": "code",
   "execution_count": 6,
   "id": "23d334ce",
   "metadata": {},
   "outputs": [],
   "source": [
    "df = pd.read_csv(\"data/guizhou_panel_cleaned.csv\")"
   ]
  },
  {
   "cell_type": "markdown",
   "id": "a38f098a",
   "metadata": {},
   "source": [
    "### 4.1.1 构造县ID、处理组、Post、交互项变量"
   ]
  },
  {
   "cell_type": "code",
   "execution_count": 7,
   "id": "ffe68dc1",
   "metadata": {},
   "outputs": [],
   "source": [
    "# 1.1 县名转为唯一编码\n",
    "df['county_id'] = df['ENG_NAME'].astype('category').cat.codes\n",
    "\n",
    "# 1.2 构造 treatment dummy（四分位中最高等级为受灾县）\n",
    "df['drought_treated'] = (df['drought_class'] == 4).astype(int)\n",
    "\n",
    "# 1.3 Post变量 + 事件期\n",
    "df['post_2010'] = (df['year'] >= 2010).astype(int)\n",
    "df['event_time'] = df['year'] - 2010\n",
    "\n",
    "# 1.4 基础交互项\n",
    "df['drought_post'] = df['drought_treated'] * df['post_2010']"
   ]
  },
  {
   "cell_type": "markdown",
   "id": "f669d98c",
   "metadata": {},
   "source": [
    "### 4.1.2 构造空间异质性变量"
   ]
  },
  {
   "cell_type": "code",
   "execution_count": 8,
   "id": "3244ee15",
   "metadata": {},
   "outputs": [],
   "source": [
    "# 高农业依赖（ cropland_pct 前25%）\n",
    "threshold = df['cropland_pct'].quantile(0.75)\n",
    "df['high_agriculture'] = (df['cropland_pct'] >= threshold).astype(int)\n",
    "\n",
    "# 交互项\n",
    "df['drought_post_high_agri'] = df['drought_post'] * df['high_agriculture']"
   ]
  },
  {
   "cell_type": "markdown",
   "id": "54fc1a1f",
   "metadata": {},
   "source": []
  }
 ],
 "metadata": {
  "kernelspec": {
   "display_name": "guizhou_env",
   "language": "python",
   "name": "python3"
  },
  "language_info": {
   "codemirror_mode": {
    "name": "ipython",
    "version": 3
   },
   "file_extension": ".py",
   "mimetype": "text/x-python",
   "name": "python",
   "nbconvert_exporter": "python",
   "pygments_lexer": "ipython3",
   "version": "3.11.2"
  }
 },
 "nbformat": 4,
 "nbformat_minor": 5
}
